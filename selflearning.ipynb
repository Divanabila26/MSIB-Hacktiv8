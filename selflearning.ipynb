{
 "cells": [
  {
   "cell_type": "markdown",
   "metadata": {},
   "source": [
    "# **Self Learning 4**"
   ]
  },
  {
   "cell_type": "code",
   "execution_count": 1,
   "metadata": {},
   "outputs": [],
   "source": [
    "import pandas as pd #Untuk menjadikan data menjadi dataframe\n",
    "import matplotlib.pyplot as plt #Untuk plotting data\n",
    "\n",
    "%matplotlib inline"
   ]
  },
  {
   "cell_type": "markdown",
   "metadata": {},
   "source": [
    "1. **Loading dan Review Data**"
   ]
  },
  {
   "cell_type": "code",
   "execution_count": 6,
   "metadata": {},
   "outputs": [],
   "source": [
    "#input data dengan nama df\n",
    "df = pd.read_csv(\"D:/nyc-rolling-sales.csv\")"
   ]
  },
  {
   "cell_type": "code",
   "execution_count": null,
   "metadata": {},
   "outputs": [],
   "source": [
    "#melihat ukuran data \n",
    "df.shape"
   ]
  },
  {
   "cell_type": "code",
   "execution_count": null,
   "metadata": {},
   "outputs": [],
   "source": [
    "#menampilkan data 5 awal \n",
    "df.head(5)"
   ]
  },
  {
   "cell_type": "code",
   "execution_count": null,
   "metadata": {},
   "outputs": [],
   "source": [
    "#untuk melihat 5 data terakhir \n",
    "df.tail(5)"
   ]
  },
  {
   "cell_type": "code",
   "execution_count": 11,
   "metadata": {},
   "outputs": [
    {
     "data": {
      "text/plain": [
       "False"
      ]
     },
     "execution_count": 11,
     "metadata": {},
     "output_type": "execute_result"
    }
   ],
   "source": [
    "#check missing values \n",
    "df.isnull().values.any()"
   ]
  },
  {
   "cell_type": "code",
   "execution_count": 13,
   "metadata": {},
   "outputs": [],
   "source": [
    "#melihat apakah ada korelasi antar variabelnya \n",
    "def plot_corr(df,size=11):\n",
    "    corr = df.corr()\n",
    "    fig,ax = plt.subplots(figsize=(size,size))\n",
    "    ax.matshow(corr)\n",
    "    plt.xticks(range(len(corr.columns)),corr.columns)\n",
    "    plt.yticks(range(len(corr.columns)),corr.columns)"
   ]
  },
  {
   "cell_type": "code",
   "execution_count": null,
   "metadata": {},
   "outputs": [],
   "source": [
    "#memanggil fungsinya \n",
    "plot_corr(df)"
   ]
  },
  {
   "cell_type": "code",
   "execution_count": null,
   "metadata": {},
   "outputs": [],
   "source": [
    "#apabila terdapat hasil matriks yang sama, maka harus dihapus salah satu \n",
    "del df['skin']\n",
    "\n",
    "#cek apakah udah hilang belum \n",
    "df.head(5)\n",
    "\n",
    "#kemudian cek lagi terkait korelasinya \n",
    "plot_corr(df)"
   ]
  },
  {
   "cell_type": "markdown",
   "metadata": {},
   "source": [
    "2. **Merapikan Data**"
   ]
  },
  {
   "cell_type": "code",
   "execution_count": null,
   "metadata": {},
   "outputs": [],
   "source": [
    "#rapikan data agar didalam dataset numerik semua, mengganti bool menjadi int\n",
    "diabetes_map = {True:1, False:0}\n",
    "df['diabetes'] = df['diabetes'].map(diabetes_map)"
   ]
  },
  {
   "cell_type": "code",
   "execution_count": null,
   "metadata": {},
   "outputs": [],
   "source": [
    "#memastikan lagi apakah terdapat missing values \n",
    "df.isnull().values.any()"
   ]
  },
  {
   "cell_type": "code",
   "execution_count": null,
   "metadata": {},
   "outputs": [],
   "source": [
    "#kemudian kita lihat seberapa banyak yang True dan false \n",
    "num_obs = len(df)\n",
    "num_true = len(df.loc[df['diabetes']==1])\n",
    "num_false = len(df.loc[df['diabetes']==0])\n",
    "print('Jumlah Terkena Diabetes: {0} ({1:2.2f}%)'.format(num_true,(num_true/num_obs)*100))\n",
    "print('Jumlah Tidak Terkena Diabetes: {0} ({1:2.2f}%)'.format(num_false,(num_false/num_obs)*100))"
   ]
  },
  {
   "cell_type": "markdown",
   "metadata": {},
   "source": [
    "3. **Memilih Algoritma**"
   ]
  },
  {
   "cell_type": "markdown",
   "metadata": {},
   "source": [
    "Peran algoritma penting menjadi jembatan model alian untuk dapat memprediksi data kedepan . Terdapat beberapa faktor :\n",
    "- Learning Type, apakah kita membutuhkan supervised atau unsupervised\n",
    "- Result, terdapat pilihan antara regression(continous value) atau classification (diskrit value)\n",
    "- Complexity, pilih yang basic algorithms \n",
    "- Basic vs Enhanced\n",
    "\n",
    "Jika sudah ditentukan, maka bisa menemukan algoritma yang cocok untuk data kita"
   ]
  },
  {
   "cell_type": "markdown",
   "metadata": {},
   "source": [
    "Berdasarkan hasil telaah diatas, didapat beberapa kandidat untuk data diabetes ini, yaitu \n",
    "- Naive Bayes, akan mempelajari org yang terkena diabetes \n",
    "- Logistic Regression, setiap feature akan dibobot sama dia, biner  \n",
    "- Decision Tree, binery tree(seperti if else). terdapat beberapa note sampai ditemukan decision terbaik "
   ]
  },
  {
   "cell_type": "markdown",
   "metadata": {},
   "source": [
    "Memilih Naive Bayes\n",
    "Kita ambil Naive bayes. naive bayes bekerja berdasarkan kemungkinan dengan data yang ada di sebelumnya, bobot fiturnya sama, membutuhkan sedikit data, simple gampang dipahamin dan performancenya stabil jika ada perubahan data. "
   ]
  },
  {
   "cell_type": "markdown",
   "metadata": {},
   "source": [
    "4. **Melatih Model**"
   ]
  },
  {
   "cell_type": "markdown",
   "metadata": {},
   "source": [
    "Model training adalah membiarkan data yang spesifik untuk melatih model ML untuk menghailkan model yang spesifik seperti yang kita inginkan. "
   ]
  },
  {
   "cell_type": "markdown",
   "metadata": {},
   "source": [
    "Setelah kita punya data, kemudian masukkan data kedalam machine learning. tahapannya : \n",
    "- Split data, ketika data banyak maka better untuk di split dengan 70% training dan 30% testing \n",
    "- Train Model, data training akan masuk kedalam model \n",
    "- Evaluasi Model, 30% data dipakai disini untuk melihat keakuratan model\n",
    "\n",
    "apabila kita testing dengan data yang sama maka tidak akurat, ketika evaluasi model harus menggunakan data yang baru. Pilih fitur yang di training itu yang simple/minimal jadi harus dipahamin lagi datanya."
   ]
  },
  {
   "cell_type": "markdown",
   "metadata": {},
   "source": [
    "5. **Training dengan Python**"
   ]
  },
  {
   "cell_type": "markdown",
   "metadata": {},
   "source": [
    "Library yang bisa digunakan untuk training pada Python adalah **Scikit Learn**. Scikit learn bekerja dengan pandas, numpy dan scipy. Scikit Learn mempunyai tool set:\n",
    "- Data Splitting \n",
    "- Pre-processing \n",
    "- Feature Se;ection \n",
    "- Model Training"
   ]
  },
  {
   "cell_type": "code",
   "execution_count": null,
   "metadata": {},
   "outputs": [],
   "source": [
    "#import \n",
    "from sklearn.model_selection import train_test_split\n",
    "\n",
    "#kita bisa memilih mana saja yang masuk ke variabel X dan y\n",
    "feature_col_names = ['num_preg','glucose_conc','diastolic_hp','thicknes','insulin','bmi','diab_pred','age']\n",
    "predicted_class_names = ['diabetes']\n",
    "\n",
    "#mendefinisikan X dan y\n",
    "X = df[feature_col_names].values\n",
    "y = df[predicted_class_names].values\n",
    "\n",
    "#menentukan test sizenya \n",
    "split_test_size = 0.30\n",
    "\n",
    "#ngesplit train test\n",
    "X_train, X_test, y_train, y_test = train_test_split(X,y,test_size=split_test_size, random_state=42)\n",
    "\n",
    "#ngecek data training dan testing \n",
    "print('{0:0.2f}% ada pada training set'.format((len(X_train)/len(df.index))*100))\n",
    "print('{0:0.2f}% ada pada test set'.format((len(X_test)/len(df.index))*100))"
   ]
  },
  {
   "cell_type": "code",
   "execution_count": null,
   "metadata": {},
   "outputs": [],
   "source": [
    "#kita harus liat variabel y nya apakah sudah ke train test dengan baik \n",
    "print('Jumlah Terkena Diabetes: {0} ({1:2.2f}%)'.format(len(df.loc[df['diabetes']==1]),(len(df.loc[df['diabetes']==1])/len(df.index))*100.0))\n",
    "print('Jumlah Tidak Terkena Diabetes: {0} ({1:2.2f}%)'.format(len(df.loc[df['diabetes']==0]),(len(df.loc[df['diabetes']==0])/len(df.index))*100.0))\n",
    "print(\"\")\n",
    "print(\"Training True:{0}({1:2.2f}%)\").format(len(y_train[y_train[:]==1]),(len(y_train[y_train[:]==1])/len(y_train)*100.0))\n",
    "print(\"Training False:{0}({1:2.2f}%)\").format(len(y_train[y_train[:]==0]),(len(y_train[y_train[:]==0])/len(y_train)*100.0))\n",
    "print(\"\")\n",
    "print(\"Testing True:{0}({1:2.2f}%)\").format(len(y_test[y_test[:]==1]),(len(y_test[y_test[:]==1])/len(y_train)*100.0))\n",
    "print(\"testing False:{0}({1:2.2f}%)\").format(len(y_test[y_test[:]==0]),(len(y_test[y_test[:]==0])/len(y_train)*100.0))"
   ]
  },
  {
   "cell_type": "code",
   "execution_count": null,
   "metadata": {},
   "outputs": [],
   "source": [
    "#melihat berapa row, dan row yang berisi missing pada masing2 fiturnya\n",
    "print(\"# rows in dataframe{0}\".format(len(df)))\n",
    "print(\"# rows missing glucose_conc: {0}\".format(len(df.loc[df['glocode_conc']==0])))\n",
    "print(\"# rows missing diastolic_bp: {0}\".format(len(df.loc[df['diastolic_bp']==0])))\n",
    "print(\"# rows missing thickness: {0}\".format(len(df.loc[df['thickness']==0])))\n",
    "print(\"# rows missing insulin: {0}\".format(len(df.loc[df['insulin']==0])))\n",
    "print(\"# rows missing bmi: {0}\".format(len(df.loc[df['bmi']==0])))\n",
    "print(\"# rows missing diab_pred: {0}\".format(len(df.loc[df['diab_pred']==0])))\n",
    "print(\"# rows missing age: {0}\".format(len(df.loc[df['age']==0])))"
   ]
  },
  {
   "cell_type": "code",
   "execution_count": null,
   "metadata": {},
   "outputs": [],
   "source": [
    "# jika pada atribut X ditemukan missing values apalagi jumlah missing valuesnya setengah dari total issing values\n",
    "# lebih baik untuk direplace dengan mean \n",
    "from sklearn.impute import SimpleImputer \n",
    "fill_0 = SimpleImputes(missing_values=0,strategy='mean')\n",
    "X_train = fill_0.fit_transofrm(X_train)\n",
    "X_test = fill_0.fit_transform(X_test)"
   ]
  },
  {
   "cell_type": "code",
   "execution_count": null,
   "metadata": {},
   "outputs": [],
   "source": [
    "#membuat model dan train dengan data \n",
    "from sklearn.naive_bayes import GaussianNB\n",
    "nb_model = GaussianNB()\n",
    "nb_model.fit(X_train, y_train.ravel())"
   ]
  },
  {
   "cell_type": "markdown",
   "metadata": {},
   "source": [
    "6. **Menguji Akurasi**"
   ]
  },
  {
   "cell_type": "markdown",
   "metadata": {},
   "source": [
    "Menguji akurasi dengan data test. Tetapi jangan langsung percaya, siapa tau nanti perlu ditingkatkan performanya "
   ]
  },
  {
   "cell_type": "code",
   "execution_count": null,
   "metadata": {},
   "outputs": [],
   "source": [
    "nb_predict_train = nb_model.predict(X_train)\n",
    "\n",
    "from sklearn import metrics \n",
    "print(\"Accuracy:{0:,4f}\".format(metrics.accuracy_score(y_train, nb_predict_train)))"
   ]
  },
  {
   "cell_type": "markdown",
   "metadata": {},
   "source": [
    "Membuat confusion matrix biar tau secara jelas pada datanya"
   ]
  }
 ],
 "metadata": {
  "kernelspec": {
   "display_name": "hacktiv8",
   "language": "python",
   "name": "python3"
  },
  "language_info": {
   "codemirror_mode": {
    "name": "ipython",
    "version": 3
   },
   "file_extension": ".py",
   "mimetype": "text/x-python",
   "name": "python",
   "nbconvert_exporter": "python",
   "pygments_lexer": "ipython3",
   "version": "3.11.4"
  }
 },
 "nbformat": 4,
 "nbformat_minor": 2
}
